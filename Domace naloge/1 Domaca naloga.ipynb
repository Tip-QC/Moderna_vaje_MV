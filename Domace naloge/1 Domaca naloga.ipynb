{
 "cells": [
  {
   "cell_type": "code",
   "execution_count": 137,
   "metadata": {},
   "outputs": [],
   "source": [
    "import numpy as np\n",
    "import matplotlib.pyplot as plt"
   ]
  },
  {
   "cell_type": "markdown",
   "metadata": {},
   "source": [
    "## 1. Taylorjeva vrsta"
   ]
  },
  {
   "cell_type": "markdown",
   "metadata": {},
   "source": [
    "Zapišite Taylorjevo vrsto za funkcijo\n",
    "\n",
    "$$ f(x)=\\sin(x), $$\n",
    "\n",
    "okoli točke $x_0=0$."
   ]
  },
  {
   "cell_type": "markdown",
   "metadata": {},
   "source": [
    "Zapišite funkcijo, ki predstavlja Taylorjev razvoj funkcijs $sin(x)$ okoli $x_0=0$ in jo narišite na istem grafu kot osnovno funkcijo."
   ]
  },
  {
   "cell_type": "code",
   "execution_count": 138,
   "metadata": {},
   "outputs": [],
   "source": [
    "# Funkcija je zelo podobna Taylorjevi seriji za $e^x$, katero smo obravnavali na vajah."
   ]
  },
  {
   "cell_type": "markdown",
   "metadata": {},
   "source": [
    "Naredite enako z uporabe splošne formule za Taylorjev razvoj iz kode v dokumentu Vaja1_interpolacija.ipynb."
   ]
  },
  {
   "cell_type": "code",
   "execution_count": 139,
   "metadata": {},
   "outputs": [],
   "source": [
    "# Funkcijo lahko prekopirate iz zvezka iz vaj."
   ]
  },
  {
   "cell_type": "markdown",
   "metadata": {},
   "source": [
    "# 2. Gradient descent za potenčno funkcijo"
   ]
  },
  {
   "cell_type": "markdown",
   "metadata": {},
   "source": [
    "Naj bo modelska funkcija potenčna funkcija oblike\n",
    "\n",
    "$$ f(x) = Ae^{Bx}+C. $$\n",
    "\n",
    "Izpeljite gradient funkcije glede na parametra:\n",
    "\n",
    "$$ (\\partial_A f(x), \\partial_B f(x), \\partial_C f(x)) $$"
   ]
  },
  {
   "cell_type": "markdown",
   "metadata": {},
   "source": [
    "Uporabite spodnje podatke. Najdite optimalna parametre $A$, $B$ in $C$ modelske funkcije, da minimizirate MSE napako.\n",
    "\n",
    "Za začetne podatke lahko uporabite $A=0.7,~B=1.3,~C=3.1$.\n",
    "\n",
    "Narišite podatke in modelsko funkcijo z optimiziranimi parametri na istem grafu. Kaj opazite? Na kak način bi lahko rezultat izboljšali?"
   ]
  },
  {
   "cell_type": "code",
   "execution_count": 140,
   "metadata": {},
   "outputs": [],
   "source": [
    "data = np.array([[-5.10235839e+00, -4.48831224e+00, -4.02635402e+00,\n",
    "        -3.66541932e+00, -2.76755087e+00, -2.41173725e+00,\n",
    "        -2.21798593e+00, -1.40846105e+00, -9.72921285e-01,\n",
    "        -5.06576895e-01,  1.27353309e-01,  4.33866616e-01,\n",
    "         8.50089211e-01,  1.69589942e+00,  2.06549662e+00,\n",
    "         2.61385772e+00,  3.12433849e+00,  3.25139917e+00,\n",
    "         3.85906393e+00,  4.58966477e+00,  5.20658445e+00],\n",
    "       [-3.37978111e+01, -1.75851043e+01, -2.45631402e+00,\n",
    "         3.95969395e+01,  1.34961877e+01,  7.70522396e+00,\n",
    "        -2.79631639e+01, -3.03838405e+01,  4.22489176e+01,\n",
    "         4.54731021e+01, -2.93947863e+01, -1.01656556e+01,\n",
    "         3.38601570e+01, -2.40535912e+01, -1.98603340e+01,\n",
    "         9.73869115e-01,  2.75401741e+00,  2.82050954e+01,\n",
    "         9.41454784e+01,  2.21806036e+02,  4.44125946e+02]])"
   ]
  },
  {
   "cell_type": "markdown",
   "metadata": {},
   "source": [
    "# 3. Fazni prostor in vizualizacija"
   ]
  },
  {
   "cell_type": "markdown",
   "metadata": {},
   "source": [
    "Predstavljajte si hipotetičnim Word dokument z besedilom dolgim 10 strani pisave Courier New, velikosti 10px in razmikom med vrsticami 1. Narišite fazni diagram, kjer je na $x$ osi višina pisave, na $y$ osi razmik med vrsticami in na z osi število strani. (sanity check: število strani je diskretno).\n",
    "\n",
    "Komentar: za besedilo lahko privzamete, da sestoji iz ene same črke, oziroma, da je širina črke konstantna. Marže papirja so lahko poljubne.\n"
   ]
  },
  {
   "cell_type": "markdown",
   "metadata": {},
   "source": []
  }
 ],
 "metadata": {
  "kernelspec": {
   "display_name": "Python 3",
   "language": "python",
   "name": "python3"
  },
  "language_info": {
   "codemirror_mode": {
    "name": "ipython",
    "version": 3
   },
   "file_extension": ".py",
   "mimetype": "text/x-python",
   "name": "python",
   "nbconvert_exporter": "python",
   "pygments_lexer": "ipython3",
   "version": "3.11.9"
  }
 },
 "nbformat": 4,
 "nbformat_minor": 2
}

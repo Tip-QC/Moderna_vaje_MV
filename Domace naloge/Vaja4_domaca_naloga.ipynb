{
 "cells": [
  {
   "cell_type": "code",
   "execution_count": 2,
   "metadata": {},
   "outputs": [],
   "source": [
    "import numpy as np\n",
    "from scipy import integrate\n",
    "import matplotlib.pyplot as plt "
   ]
  },
  {
   "cell_type": "markdown",
   "metadata": {},
   "source": [
    "# Gnan harmonski oscilator"
   ]
  },
  {
   "cell_type": "markdown",
   "metadata": {},
   "source": [
    "Gnan harmonski oscilator opisuje enačba\n",
    "\n",
    "$$ \\theta''(t) + b\\theta'(t) + c\\sin(\\theta(t)) + d \\sin(\\omega t) = 0 $$\n",
    "\n",
    "Kjer je $ b $ koeficient dušenja, $ c $ pa je določen z dolžino nihala $ c = \\frac{g}{l} $.\n",
    "\n",
    "$ d \\sin(\\omega t) $ je zunanji (periodični) vpliv zunanje sile.\n",
    "\n",
    "Narišite odvisnost pozicije nihala od časa. Uporabite spodnje podatke.\n",
    "\n",
    "Rešitev poiščite na dva načina:\n",
    "1. Z uporabo metode eulerODE2 iz vaj\n",
    "2. Z uporabe integrate.solve_ivp metode"
   ]
  },
  {
   "cell_type": "code",
   "execution_count": 3,
   "metadata": {},
   "outputs": [],
   "source": [
    "length = 2\n",
    "c = 9.81/length\n",
    "\n",
    "b = 0.1\n",
    "d = -1.0\n",
    "omega = 1.0\n",
    "\n",
    "t0 = 0\n",
    "theta00 = 2.0\n",
    "theta10 = 0\n",
    "nmax = 200\n",
    "h = 0.5"
   ]
  },
  {
   "cell_type": "markdown",
   "metadata": {},
   "source": [
    "Uporabite še druge metode\n",
    "- RK45\n",
    "- RK23\n",
    "- DOP853\n",
    "- Radau\n",
    "- BDF\n",
    "- LSODA\n",
    "\n",
    "metodo spreminjate z argumentom funkcije integrate.solve_ivp, method = \"RK45\" (vstavite pravilno metodo)."
   ]
  },
  {
   "cell_type": "markdown",
   "metadata": {},
   "source": [
    "Narišite odstopanje od RK45 metode."
   ]
  },
  {
   "cell_type": "code",
   "execution_count": 4,
   "metadata": {},
   "outputs": [],
   "source": [
    "t_array = np.linspace(0,100,201)"
   ]
  }
 ],
 "metadata": {
  "kernelspec": {
   "display_name": "Python 3",
   "language": "python",
   "name": "python3"
  },
  "language_info": {
   "codemirror_mode": {
    "name": "ipython",
    "version": 3
   },
   "file_extension": ".py",
   "mimetype": "text/x-python",
   "name": "python",
   "nbconvert_exporter": "python",
   "pygments_lexer": "ipython3",
   "version": "3.11.9"
  }
 },
 "nbformat": 4,
 "nbformat_minor": 2
}
